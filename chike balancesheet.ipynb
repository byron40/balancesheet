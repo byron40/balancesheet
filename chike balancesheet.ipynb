{
 "cells": [
  {
   "cell_type": "code",
   "execution_count": 19,
   "metadata": {},
   "outputs": [
    {
     "name": "stdout",
     "output_type": "stream",
     "text": [
      "Please Enter your name: chike\n",
      "What would you like to buy? milk\n",
      "How many of these items would you like to  purchase? 2\n",
      "Please enter your email: chike@icloud.com\n",
      "<built-in method find of str object at 0x00000078F9BFC080>\n"
     ]
    }
   ],
   "source": [
    "name = input(\"Please Enter your name: \")\n",
    "prodlist = (10 ,200, 500, 750, 1000)\n",
    "milk = prodlist[0]\n",
    "meat = prodlist[1]\n",
    "alcohol = prodlist[2]\n",
    "fanta = prodlist[3]\n",
    "coke = prodlist[4]\n",
    "\n",
    "product = input(\"What would you like to buy? \")\n",
    "quantity = input(\"How many of these items would you like to  purchase? \")\n",
    "contact = input(\"Please enter your email: \")\n",
    "\n",
    "def balancesheet():\n",
    "    if(product == \"milk\"):\n",
    "        result1 = int(milk) * int(quantity)\n",
    "        print(\"The total price for Milk is\", result1)\n",
    "    elif(product == \"meat\"):\n",
    "        result2 = int(meat) * int(quantity)\n",
    "        print(\"The total price for Meat is\", result2)\n",
    "    elif(product == \"alcohol\"):\n",
    "        result3 = int(alcohol) * int(quantity)\n",
    "        print(\"The total price for Alcohol is\", result3)\n",
    "    elif(product == \"fanta\"):\n",
    "        result4 = int(fanta) * int(quantity)\n",
    "        print(\"The total price for Fanta is\", result4)\n",
    "    elif(product == \"coke\"):\n",
    "        result5 = int(coke) * int(quantity)\n",
    "        print(\"The total price for Coke is\", result5)\n",
    "    else: \n",
    "        print(\"Invalid Input\")\n",
    "        \n",
    "search = contact.find\n",
    "        \n",
    "def regex():\n",
    "    if(search('gmail') <= 0):\n",
    "        print('Invalid email')\n",
    "    elif(search.find('hotmail') <= 0):\n",
    "        print('Invalid email')\n",
    "    elif(c('yahoo') <= 0):\n",
    "        print('Invalid email')\n",
    "    elif(contact.find('icloud') <= 0):\n",
    "        print('Invalid email')\n",
    "    else:\n",
    "        print('Email Validated')\n",
    "    \n",
    "#balancesheet(); regex();"
   ]
  },
  {
   "cell_type": "code",
   "execution_count": 2,
   "metadata": {},
   "outputs": [
    {
     "name": "stdout",
     "output_type": "stream",
     "text": [
      "10\n"
     ]
    }
   ],
   "source": [
    "def\n"
   ]
  },
  {
   "cell_type": "code",
   "execution_count": 11,
   "metadata": {},
   "outputs": [
    {
     "data": {
      "text/plain": [
       "'C:\\\\Users\\\\BMO'"
      ]
     },
     "execution_count": 11,
     "metadata": {},
     "output_type": "execute_result"
    }
   ],
   "source": [
    "pwd"
   ]
  },
  {
   "cell_type": "code",
   "execution_count": 7,
   "metadata": {},
   "outputs": [
    {
     "name": "stdout",
     "output_type": "stream",
     "text": [
      "13\n"
     ]
    }
   ],
   "source": [
    "e1 = \"thealonghorn@gmail.com\"\n",
    "e2 = \"dalefinningham@hotmail.com\"\n",
    "\n",
    "x = e1.find('gmail')\n",
    "print(x)"
   ]
  },
  {
   "cell_type": "code",
   "execution_count": 18,
   "metadata": {},
   "outputs": [
    {
     "name": "stdout",
     "output_type": "stream",
     "text": [
      "-1\n"
     ]
    }
   ],
   "source": [
    "cont = \"rank1@icloud.com\"\n",
    "search = cont.find('scloud')\n",
    "print(search)"
   ]
  },
  {
   "cell_type": "code",
   "execution_count": 20,
   "metadata": {},
   "outputs": [
    {
     "ename": "NameError",
     "evalue": "name 'chikenjiaju' is not defined",
     "output_type": "error",
     "traceback": [
      "\u001b[1;31m---------------------------------------------------------------------------\u001b[0m",
      "\u001b[1;31mNameError\u001b[0m                                 Traceback (most recent call last)",
      "\u001b[1;32m<ipython-input-20-f689746506d6>\u001b[0m in \u001b[0;36m<module>\u001b[1;34m\u001b[0m\n\u001b[1;32m----> 1\u001b[1;33m \u001b[0mchikenjiaju\u001b[0m\u001b[1;33m@\u001b[0m\u001b[0mgmail\u001b[0m\u001b[1;33m.\u001b[0m\u001b[0mcom\u001b[0m\u001b[1;33m\u001b[0m\u001b[1;33m\u001b[0m\u001b[0m\n\u001b[0m",
      "\u001b[1;31mNameError\u001b[0m: name 'chikenjiaju' is not defined"
     ]
    }
   ],
   "source": [
    "chikenjiaju@gmail.com"
   ]
  },
  {
   "cell_type": "code",
   "execution_count": null,
   "metadata": {},
   "outputs": [],
   "source": []
  }
 ],
 "metadata": {
  "kernelspec": {
   "display_name": "Python 3",
   "language": "python",
   "name": "python3"
  },
  "language_info": {
   "codemirror_mode": {
    "name": "ipython",
    "version": 3
   },
   "file_extension": ".py",
   "mimetype": "text/x-python",
   "name": "python",
   "nbconvert_exporter": "python",
   "pygments_lexer": "ipython3",
   "version": "3.8.5"
  }
 },
 "nbformat": 4,
 "nbformat_minor": 4
}
